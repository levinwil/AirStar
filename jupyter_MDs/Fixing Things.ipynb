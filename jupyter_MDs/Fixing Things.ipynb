{
 "cells": [
  {
   "cell_type": "code",
   "execution_count": 10,
   "metadata": {
    "collapsed": false
   },
   "outputs": [],
   "source": [
    "import sys\n",
    "sys.path.append(\"../pre-processing\")\n",
    "sys.path.append(\"../pre-processing/methods\")\n",
    "sys.path.append(\"../learning_model\")\n",
    "from parse import parse\n",
    "from freqDomain import *\n",
    "from timeDomain import *\n",
    "from prepare_data import prepare_data\n",
    "import numpy as np\n",
    "import matplotlib.pyplot as plt\n",
    "import math\n",
    "import pickle\n",
    "from scipy import interpolate\n",
    "from freq_domain_mlp import *"
   ]
  },
  {
   "cell_type": "code",
   "execution_count": 40,
   "metadata": {
    "collapsed": false
   },
   "outputs": [
    {
     "name": "stderr",
     "output_type": "stream",
     "text": [
      "/usr/local/lib/python2.7/site-packages/numpy/core/_methods.py:59: RuntimeWarning: Mean of empty slice.\n",
      "  warnings.warn(\"Mean of empty slice.\", RuntimeWarning)\n",
      "/usr/local/lib/python2.7/site-packages/numpy/core/_methods.py:70: RuntimeWarning: invalid value encountered in double_scalars\n",
      "  ret = ret.dtype.type(ret / rcount)\n"
     ]
    }
   ],
   "source": [
    "resting = prepare_data(\"/Users/williamlevine/Downloads/OpenBCI-RAW-2017-07-02_06-20-21.txt\")"
   ]
  },
  {
   "cell_type": "code",
   "execution_count": 73,
   "metadata": {
    "collapsed": false
   },
   "outputs": [],
   "source": [
    "test_1 = pickle.load(open(\"/Users/williamlevine/Downloads/3-Seconds-Will-Trial-3.MultFeat\"))\n",
    "test_2 = pickle.load(open(\"/Users/williamlevine/Downloads/3-Seconds-Will-Trial-2.MultFeat\"))\n",
    "test_1_x = test_1[0]\n",
    "test_2_x = test_2[0]\n",
    "test_1_y = test_1[1]\n",
    "test_2_y = test_2[1]\n",
    "resting_1_x = resting[0][10000:15000]\n",
    "resting_y = [0] * 5000"
   ]
  },
  {
   "cell_type": "code",
   "execution_count": 59,
   "metadata": {
    "collapsed": false
   },
   "outputs": [],
   "source": [
    "concat_x = np.concatenate((test_1_x, resting_1_x, test_2_x))\n",
    "concat_y = np.concatenate((test_1_y, resting_y, test_2_y))\n",
    "concat = [concat_x, concat_y]"
   ]
  },
  {
   "cell_type": "code",
   "execution_count": 63,
   "metadata": {
    "collapsed": false
   },
   "outputs": [],
   "source": [
    "pickle.dump(concat, open(\"/Users/williamlevine/Downloads/concat_test.MultFeat\", \"wb\"))"
   ]
  },
  {
   "cell_type": "code",
   "execution_count": null,
   "metadata": {
    "collapsed": true
   },
   "outputs": [],
   "source": []
  }
 ],
 "metadata": {
  "kernelspec": {
   "display_name": "Python 2",
   "language": "python",
   "name": "python2"
  },
  "language_info": {
   "codemirror_mode": {
    "name": "ipython",
    "version": 2
   },
   "file_extension": ".py",
   "mimetype": "text/x-python",
   "name": "python",
   "nbconvert_exporter": "python",
   "pygments_lexer": "ipython2",
   "version": "2.7.13"
  }
 },
 "nbformat": 4,
 "nbformat_minor": 2
}
